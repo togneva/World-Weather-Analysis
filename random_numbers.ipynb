{
 "cells": [
  {
   "cell_type": "code",
   "execution_count": 4,
   "id": "f336281c-4cfa-4b05-b013-ad5051b3d738",
   "metadata": {},
   "outputs": [],
   "source": [
    "#import the random module\n",
    "import random"
   ]
  },
  {
   "cell_type": "code",
   "execution_count": 5,
   "id": "9261aa9e-40d5-4ba6-8317-308f312257e4",
   "metadata": {},
   "outputs": [
    {
     "data": {
      "text/plain": [
       "56"
      ]
     },
     "execution_count": 5,
     "metadata": {},
     "output_type": "execute_result"
    }
   ],
   "source": [
    "random.randint(-90, 90)"
   ]
  },
  {
   "cell_type": "code",
   "execution_count": 6,
   "id": "22447c1f-8b24-4c96-bdb4-aa9cfd8ae27f",
   "metadata": {},
   "outputs": [
    {
     "data": {
      "text/plain": [
       "0.715952887259267"
      ]
     },
     "execution_count": 6,
     "metadata": {},
     "output_type": "execute_result"
    }
   ],
   "source": [
    "random.random()"
   ]
  },
  {
   "cell_type": "code",
   "execution_count": 7,
   "id": "7065f404-14ea-4885-8498-bca6d96e21d5",
   "metadata": {},
   "outputs": [
    {
     "data": {
      "text/plain": [
       "55.90997506273402"
      ]
     },
     "execution_count": 7,
     "metadata": {},
     "output_type": "execute_result"
    }
   ],
   "source": [
    "random_number =  random.randint(-89, 89) + random.random()\n",
    "random_number"
   ]
  },
  {
   "cell_type": "code",
   "execution_count": 8,
   "id": "5f08d76d-d8a5-44f1-934b-4b592c95f190",
   "metadata": {},
   "outputs": [],
   "source": [
    "x = 1\n",
    "latitudes = []\n",
    "while x < 11:\n",
    "    random_lat = random.randint(-90, 89) + random.random()\n",
    "    latitudes.append(random_lat)\n",
    "    x += 1"
   ]
  },
  {
   "cell_type": "code",
   "execution_count": 9,
   "id": "1f24bf72-f7e3-432e-9f90-6aec8fe61967",
   "metadata": {},
   "outputs": [
    {
     "data": {
      "text/plain": [
       "[-62.7439077043239,\n",
       " 76.46529165618192,\n",
       " -60.00675653326351,\n",
       " -6.795892106966436,\n",
       " -31.630700044856653,\n",
       " 28.925755970112608,\n",
       " 79.90330769323579,\n",
       " 69.25619001812537,\n",
       " -12.697389859470436,\n",
       " 54.935338091918865]"
      ]
     },
     "execution_count": 9,
     "metadata": {},
     "output_type": "execute_result"
    }
   ],
   "source": [
    "latitudes"
   ]
  },
  {
   "cell_type": "code",
   "execution_count": 10,
   "id": "14ce08cb-947e-4cdc-941f-d0be43cd4a65",
   "metadata": {},
   "outputs": [
    {
     "data": {
      "text/plain": [
       "-77.97026153594229"
      ]
     },
     "execution_count": 10,
     "metadata": {},
     "output_type": "execute_result"
    }
   ],
   "source": [
    "random.uniform(-90, 90)"
   ]
  },
  {
   "cell_type": "code",
   "execution_count": 13,
   "id": "a89967d0-7736-4914-a4cb-3b390af438f5",
   "metadata": {},
   "outputs": [
    {
     "data": {
      "text/plain": [
       "0.0721268433051484"
      ]
     },
     "execution_count": 13,
     "metadata": {},
     "output_type": "execute_result"
    }
   ],
   "source": [
    "random.random()"
   ]
  },
  {
   "cell_type": "code",
   "execution_count": 14,
   "id": "39be90af-0410-4474-a316-8f38e43938a1",
   "metadata": {},
   "outputs": [],
   "source": [
    "# Import the NumPy module.\n",
    "import numpy as np"
   ]
  },
  {
   "cell_type": "code",
   "execution_count": 15,
   "id": "21716b8b-6a06-4859-aa7f-c67ec31c88ac",
   "metadata": {},
   "outputs": [
    {
     "data": {
      "text/plain": [
       "12.471585285836298"
      ]
     },
     "execution_count": 15,
     "metadata": {},
     "output_type": "execute_result"
    }
   ],
   "source": [
    "np.random.uniform(-90.000, 90.000)"
   ]
  },
  {
   "cell_type": "code",
   "execution_count": 26,
   "id": "89c06380-9223-4065-a35f-52c6105e1e58",
   "metadata": {},
   "outputs": [],
   "source": [
    "values = np.random.uniform(-90, 90, size  = 50)"
   ]
  },
  {
   "cell_type": "code",
   "execution_count": 27,
   "id": "d9cd5041-47dc-4946-bba2-e514d36fe990",
   "metadata": {},
   "outputs": [],
   "source": [
    "values_list = []"
   ]
  },
  {
   "cell_type": "code",
   "execution_count": 28,
   "id": "d7f7cc9f-7d2e-40df-995f-7df93825e89d",
   "metadata": {},
   "outputs": [],
   "source": [
    "for x in values:\n",
    "    values_list.append(x)"
   ]
  },
  {
   "cell_type": "code",
   "execution_count": 29,
   "id": "17878071-667f-4ac7-991a-9d8d0eee0600",
   "metadata": {},
   "outputs": [
    {
     "data": {
      "text/plain": [
       "[-44.82280482504386,\n",
       " -71.84336001484255,\n",
       " -74.98736616606963,\n",
       " -82.17129432620465,\n",
       " 63.956032988403194,\n",
       " -84.83504237616533,\n",
       " -42.11051317705088,\n",
       " 61.74400228738443,\n",
       " -60.1975587069022,\n",
       " 45.484511846106216,\n",
       " -54.60914199827424,\n",
       " 47.56621056517858,\n",
       " 60.6369033971402,\n",
       " -26.52520151684716,\n",
       " -55.89989065575127,\n",
       " -24.954591605053295,\n",
       " 87.37365310870732,\n",
       " 31.82505421299001,\n",
       " -35.78408503811287,\n",
       " -23.88582947875007,\n",
       " 68.72897963156379,\n",
       " 37.92060604508431,\n",
       " 66.49021235365626,\n",
       " 52.64459062201743,\n",
       " -40.19471396984995,\n",
       " 62.66438472387097,\n",
       " 42.23715294994946,\n",
       " 76.59640171473114,\n",
       " -40.31200381447632,\n",
       " 0.7744956552512434,\n",
       " 31.061715095228863,\n",
       " 16.03371173615571,\n",
       " -35.11091881373729,\n",
       " -38.8652293956397,\n",
       " 24.549200127781845,\n",
       " -86.30063833265875,\n",
       " -74.43393569335895,\n",
       " -77.86019742425002,\n",
       " -86.57966430002261,\n",
       " -57.98693576024407,\n",
       " -71.51472495855609,\n",
       " 60.71285838389812,\n",
       " 21.785056613365384,\n",
       " 48.769368166921765,\n",
       " -33.16371375922254,\n",
       " -52.95868504097814,\n",
       " -44.3861279436356,\n",
       " 63.903880128784635,\n",
       " 44.813498011794934,\n",
       " 32.68025574177402]"
      ]
     },
     "execution_count": 29,
     "metadata": {},
     "output_type": "execute_result"
    }
   ],
   "source": [
    "values_list"
   ]
  },
  {
   "cell_type": "code",
   "execution_count": 30,
   "id": "a74e12e9-c257-402b-9723-d3a37ec70dfd",
   "metadata": {},
   "outputs": [],
   "source": [
    "#import timeit\n",
    "import timeit"
   ]
  },
  {
   "cell_type": "code",
   "execution_count": 31,
   "id": "b91eef55-c1c5-4676-bf1d-60435d17aa3d",
   "metadata": {},
   "outputs": [
    {
     "name": "stdout",
     "output_type": "stream",
     "text": [
      "21.9 µs ± 9.37 µs per loop (mean ± std. dev. of 7 runs, 100000 loops each)\n"
     ]
    }
   ],
   "source": [
    "%timeit np.random.uniform(-90.000, 90.000, size=1500)"
   ]
  },
  {
   "cell_type": "code",
   "execution_count": 32,
   "id": "3ff93bcb-bdd7-4965-bd4c-674a690c0dae",
   "metadata": {},
   "outputs": [
    {
     "name": "stdout",
     "output_type": "stream",
     "text": [
      "3.4 ms ± 414 µs per loop (mean ± std. dev. of 7 runs, 100 loops each)\n"
     ]
    }
   ],
   "source": [
    "def latitudes(size):\n",
    "    latitudes = []\n",
    "    x = 0\n",
    "    while x < (size):\n",
    "        random_lat = random.randint(-90, 90) + random.random()\n",
    "        latitudes.append(random_lat)\n",
    "        x += 1\n",
    "    return latitudes\n",
    "# Call the function with 1500.\n",
    "%timeit latitudes(1500)"
   ]
  },
  {
   "cell_type": "code",
   "execution_count": 34,
   "id": "0636d710-028d-4cd5-bd13-989f6308b56c",
   "metadata": {},
   "outputs": [
    {
     "name": "stdout",
     "output_type": "stream",
     "text": [
      "2.98 ms ± 214 µs per loop (mean ± std. dev. of 7 runs, 100 loops each)\n"
     ]
    }
   ],
   "source": [
    "def latitudes(size):\n",
    "    latitudes = []\n",
    "    x = 0\n",
    "    for x in np.arange(0, size):\n",
    "        random_lat = random.randint(-90, 90) + random.random()\n",
    "        latitudes.append(random_lat)\n",
    "        x += 1\n",
    "    return latitudes\n",
    "# Call the function with 1500.\n",
    "%timeit latitudes(1500)"
   ]
  },
  {
   "cell_type": "code",
   "execution_count": null,
   "id": "e873cafd-44b4-4558-8136-da23961cb414",
   "metadata": {},
   "outputs": [],
   "source": []
  }
 ],
 "metadata": {
  "kernelspec": {
   "display_name": "Python 3 (ipykernel)",
   "language": "python",
   "name": "python3"
  },
  "language_info": {
   "codemirror_mode": {
    "name": "ipython",
    "version": 3
   },
   "file_extension": ".py",
   "mimetype": "text/x-python",
   "name": "python",
   "nbconvert_exporter": "python",
   "pygments_lexer": "ipython3",
   "version": "3.8.12"
  }
 },
 "nbformat": 4,
 "nbformat_minor": 5
}
